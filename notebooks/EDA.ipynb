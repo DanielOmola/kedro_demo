{
 "cells": [
  {
   "cell_type": "code",
   "execution_count": null,
   "id": "4e5b05f0",
   "metadata": {},
   "outputs": [],
   "source": [
    "# https://docs.kedro.org/en/0.18.1/tools_integration/ipython.html"
   ]
  },
  {
   "cell_type": "code",
   "execution_count": 34,
   "id": "341d991f",
   "metadata": {},
   "outputs": [
    {
     "name": "stdout",
     "output_type": "stream",
     "text": [
      "The kedro.extras.extensions.ipython extension is already loaded. To reload it, use:\n",
      "  %reload_ext kedro.extras.extensions.ipython\n"
     ]
    }
   ],
   "source": [
    "%load_ext kedro.extras.extensions.ipython"
   ]
  },
  {
   "cell_type": "code",
   "execution_count": 35,
   "id": "c614915e",
   "metadata": {},
   "outputs": [
    {
     "data": {
      "text/plain": [
       "['tweeter_raw_data',\n",
       " 'tweeter_clean_data',\n",
       " 'X_train',\n",
       " 'y_train',\n",
       " 'X_test',\n",
       " 'y_test',\n",
       " 'model',\n",
       " 'parameters',\n",
       " 'params:url_tweeter_data',\n",
       " 'params:test_ratio']"
      ]
     },
     "execution_count": 35,
     "metadata": {},
     "output_type": "execute_result"
    }
   ],
   "source": [
    "catalog.list()"
   ]
  },
  {
   "cell_type": "code",
   "execution_count": 36,
   "id": "445645c2",
   "metadata": {},
   "outputs": [
    {
     "data": {
      "text/html": [
       "<pre style=\"white-space:pre;overflow-x:auto;line-height:normal;font-family:Menlo,'DejaVu Sans Mono',consolas,'Courier New',monospace\"><span style=\"color: #7fbfbf; text-decoration-color: #7fbfbf\">[06/17/23 23:33:04] </span><span style=\"color: #000080; text-decoration-color: #000080\">INFO    </span> Loading data from <span style=\"color: #008000; text-decoration-color: #008000\">'tweeter_raw_data'</span> <span style=\"font-weight: bold\">(</span>CSVDataSet<span style=\"font-weight: bold\">)</span><span style=\"color: #808000; text-decoration-color: #808000\">...</span>               <span style=\"color: #7f7f7f; text-decoration-color: #7f7f7f\">data_catalog.py:343</span>\n",
       "</pre>\n"
      ],
      "text/plain": [
       "\u001b[2;36m[06/17/23 23:33:04]\u001b[0m\u001b[2;36m \u001b[0m\u001b[34mINFO    \u001b[0m Loading data from \u001b[32m'tweeter_raw_data'\u001b[0m \u001b[1m(\u001b[0mCSVDataSet\u001b[1m)\u001b[0m\u001b[33m...\u001b[0m               \u001b[2mdata_catalog.py\u001b[0m\u001b[2m:\u001b[0m\u001b[2m343\u001b[0m\n"
      ]
     },
     "metadata": {},
     "output_type": "display_data"
    },
    {
     "data": {
      "text/plain": [
       "0                   @VirginAmerica What @dhepburn said.\n",
       "1     @VirginAmerica plus you've added commercials t...\n",
       "2     @VirginAmerica I didn't today... Must mean I n...\n",
       "3     @VirginAmerica it's really aggressive to blast...\n",
       "4     @VirginAmerica and it's a really big bad thing...\n",
       "5     @VirginAmerica seriously would pay $30 a fligh...\n",
       "6     @VirginAmerica yes, nearly every time I fly VX...\n",
       "7     @VirginAmerica Really missed a prime opportuni...\n",
       "8       @virginamerica Well, I didn't…but NOW I DO! :-D\n",
       "9     @VirginAmerica it was amazing, and arrived an ...\n",
       "10    @VirginAmerica did you know that suicide is th...\n",
       "11    @VirginAmerica I &lt;3 pretty graphics. so muc...\n",
       "12    @VirginAmerica This is such a great deal! Alre...\n",
       "13    @VirginAmerica @virginmedia I'm flying your #f...\n",
       "14                               @VirginAmerica Thanks!\n",
       "15        @VirginAmerica SFO-PDX schedule is still MIA.\n",
       "16    @VirginAmerica So excited for my first cross c...\n",
       "17    @VirginAmerica  I flew from NYC to SFO last we...\n",
       "18                      I ❤️ flying @VirginAmerica. ☺️👍\n",
       "19    @VirginAmerica you know what would be amazingl...\n",
       "20    @VirginAmerica why are your first fares in May...\n",
       "21    @VirginAmerica I love this graphic. http://t.c...\n",
       "22    @VirginAmerica I love the hipster innovation. ...\n",
       "23    @VirginAmerica will you be making BOS&gt;LAS n...\n",
       "24    @VirginAmerica you guys messed up my seating.....\n",
       "25    @VirginAmerica status match program.  I applie...\n",
       "26    @VirginAmerica What happened 2 ur vegan food o...\n",
       "27    @VirginAmerica do you miss me? Don't worry we'...\n",
       "28    @VirginAmerica amazing to me that we can't get...\n",
       "29    @VirginAmerica LAX to EWR - Middle seat on a r...\n",
       "30    @VirginAmerica hi! I just bked a cool birthday...\n",
       "31    @VirginAmerica Are the hours of operation for ...\n",
       "32    @VirginAmerica help, left expensive headphones...\n",
       "33    @VirginAmerica awaiting my return phone call, ...\n",
       "34    @VirginAmerica this is great news!  America co...\n",
       "35    Nice RT @VirginAmerica: Vibe with the moodligh...\n",
       "36    @VirginAmerica Moodlighting is the only way to...\n",
       "37    @VirginAmerica @freddieawards Done and done! B...\n",
       "38    @VirginAmerica when can I book my flight to Ha...\n",
       "39    @VirginAmerica Your chat support is not workin...\n",
       "40    @VirginAmerica View of downtown Los Angeles, t...\n",
       "41    @VirginAmerica Hey, first time flyer next week...\n",
       "42    @VirginAmerica plz help me win my bid upgrade ...\n",
       "43    @VirginAmerica I have an unused ticket but mov...\n",
       "44    @VirginAmerica are flights leaving Dallas for ...\n",
       "45    @VirginAmerica I'm #elevategold for a good rea...\n",
       "46    @VirginAmerica  DREAM http://t.co/oA2dRfAoQ2 h...\n",
       "47            @VirginAmerica wow this just blew my mind\n",
       "48    @VirginAmerica @ladygaga @carrieunderwood Afte...\n",
       "49    @VirginAmerica @ladygaga @carrieunderwood All ...\n",
       "Name: text, dtype: object"
      ]
     },
     "execution_count": 36,
     "metadata": {},
     "output_type": "execute_result"
    }
   ],
   "source": [
    "raw_data = catalog.load(\"tweeter_raw_data\")\n",
    "raw_data.text.head(50)"
   ]
  },
  {
   "cell_type": "code",
   "execution_count": 37,
   "id": "103fe6d0",
   "metadata": {},
   "outputs": [
    {
     "data": {
      "text/plain": [
       "\"  I'm flying your\""
      ]
     },
     "execution_count": 37,
     "metadata": {},
     "output_type": "execute_result"
    }
   ],
   "source": [
    "import re\n",
    "text = '''@VirginAmerica @virginmedia I'm flying your'''\n",
    "text = re.sub('@[A-Za-z0–9]+', '', text)\n",
    "text"
   ]
  },
  {
   "cell_type": "code",
   "execution_count": 39,
   "id": "88f9eeae",
   "metadata": {},
   "outputs": [
    {
     "data": {
      "text/html": [
       "<pre style=\"white-space:pre;overflow-x:auto;line-height:normal;font-family:Menlo,'DejaVu Sans Mono',consolas,'Courier New',monospace\"><span style=\"color: #7fbfbf; text-decoration-color: #7fbfbf\">[06/17/23 23:33:38] </span><span style=\"color: #000080; text-decoration-color: #000080\">INFO    </span> Loading data from <span style=\"color: #008000; text-decoration-color: #008000\">'tweeter_clean_data'</span> <span style=\"font-weight: bold\">(</span>CSVDataSet<span style=\"font-weight: bold\">)</span><span style=\"color: #808000; text-decoration-color: #808000\">...</span>             <span style=\"color: #7f7f7f; text-decoration-color: #7f7f7f\">data_catalog.py:343</span>\n",
       "</pre>\n"
      ],
      "text/plain": [
       "\u001b[2;36m[06/17/23 23:33:38]\u001b[0m\u001b[2;36m \u001b[0m\u001b[34mINFO    \u001b[0m Loading data from \u001b[32m'tweeter_clean_data'\u001b[0m \u001b[1m(\u001b[0mCSVDataSet\u001b[1m)\u001b[0m\u001b[33m...\u001b[0m             \u001b[2mdata_catalog.py\u001b[0m\u001b[2m:\u001b[0m\u001b[2m343\u001b[0m\n"
      ]
     },
     "metadata": {},
     "output_type": "display_data"
    },
    {
     "data": {
      "text/plain": [
       "0                                                  said\n",
       "1               plus added commercials experience tacky\n",
       "2                today must mean need take another trip\n",
       "3     really aggressive blast obnoxious entertainmen...\n",
       "4                                  really big bad thing\n",
       "5     seriously would pay flight seats playing reall...\n",
       "6         yes nearly every time fly vx ear worm go away\n",
       "7     really missed prime opportunity men without ha...\n",
       "8                                                  well\n",
       "9                       amazing arrived hour early good\n",
       "10    know suicide second leading cause death among ...\n",
       "11    lt pretty graphics much better minimal iconogr...\n",
       "12    great deal already thinking nd trip amp even g...\n",
       "13    flying #fabulous #seductive skies u take #stre...\n",
       "14                                               thanks\n",
       "15                           sfo pdx schedule still mia\n",
       "16    excited first cross country flight lax mco hea...\n",
       "17    flew nyc sfo last week fully sit seat due two ...\n",
       "18                                               flying\n",
       "19    know would amazingly awesome bos fll please wa...\n",
       "20    first fares may three times carriers seats ava...\n",
       "21                                         love graphic\n",
       "22              love hipster innovation feel good brand\n",
       "23    making bos gt las non stop permanently anytime...\n",
       "24    guys messed seating reserved seating friends g...\n",
       "25    status match program applied three weeks calle...\n",
       "26    happened ur vegan food options least say ur si...\n",
       "27                             miss worry together soon\n",
       "28    amazing get cold air vents #vx #noair #worstfl...\n",
       "29    lax ewr middle seat red eye noob maneuver #sen...\n",
       "30    hi bked cool birthday trip add elevate cause e...\n",
       "31       hours operation club sfo posted online current\n",
       "32    help left expensive headphones flight iad lax ...\n",
       "33    awaiting return phone call would prefer use on...\n",
       "34    great news america could start flights hawaii ...\n",
       "35    nice rt vibe moodlight takeoff touchdown #mood...\n",
       "36    moodlighting way fly best experience ever cool...\n",
       "37                  done done best airline around hands\n",
       "38                                   book flight hawaii\n",
       "39                            chat support working site\n",
       "40    view downtown los angeles hollywood sign beyon...\n",
       "41    hey first time flyer next week excited hard ti...\n",
       "42           plz help win bid upgrade flight lax gt sea\n",
       "43    unused ticket moved new city fly fly expires #...\n",
       "44              flights leaving dallas seattle time feb\n",
       "45                        #elevategold good reason rock\n",
       "46                                                dream\n",
       "47                                        wow blew mind\n",
       "48    last night #tribute #soundofmusic #oscars thin...\n",
       "49                                         entertaining\n",
       "Name: text, dtype: object"
      ]
     },
     "execution_count": 39,
     "metadata": {},
     "output_type": "execute_result"
    }
   ],
   "source": [
    "raw_data = catalog.load(\"tweeter_clean_data\")\n",
    "raw_data.text.head(50)"
   ]
  },
  {
   "cell_type": "code",
   "execution_count": 42,
   "id": "3cf65bc2",
   "metadata": {},
   "outputs": [
    {
     "data": {
      "text/html": [
       "<pre style=\"white-space:pre;overflow-x:auto;line-height:normal;font-family:Menlo,'DejaVu Sans Mono',consolas,'Courier New',monospace\"><span style=\"color: #7fbfbf; text-decoration-color: #7fbfbf\">[06/17/23 23:35:50] </span><span style=\"color: #000080; text-decoration-color: #000080\">INFO    </span> Loading data from <span style=\"color: #008000; text-decoration-color: #008000\">'X_train'</span> <span style=\"font-weight: bold\">(</span>CSVDataSet<span style=\"font-weight: bold\">)</span><span style=\"color: #808000; text-decoration-color: #808000\">...</span>                        <span style=\"color: #7f7f7f; text-decoration-color: #7f7f7f\">data_catalog.py:343</span>\n",
       "</pre>\n"
      ],
      "text/plain": [
       "\u001b[2;36m[06/17/23 23:35:50]\u001b[0m\u001b[2;36m \u001b[0m\u001b[34mINFO    \u001b[0m Loading data from \u001b[32m'X_train'\u001b[0m \u001b[1m(\u001b[0mCSVDataSet\u001b[1m)\u001b[0m\u001b[33m...\u001b[0m                        \u001b[2mdata_catalog.py\u001b[0m\u001b[2m:\u001b[0m\u001b[2m343\u001b[0m\n"
      ]
     },
     "metadata": {},
     "output_type": "display_data"
    },
    {
     "data": {
      "text/html": [
       "<div>\n",
       "<style scoped>\n",
       "    .dataframe tbody tr th:only-of-type {\n",
       "        vertical-align: middle;\n",
       "    }\n",
       "\n",
       "    .dataframe tbody tr th {\n",
       "        vertical-align: top;\n",
       "    }\n",
       "\n",
       "    .dataframe thead th {\n",
       "        text-align: right;\n",
       "    }\n",
       "</style>\n",
       "<table border=\"1\" class=\"dataframe\">\n",
       "  <thead>\n",
       "    <tr style=\"text-align: right;\">\n",
       "      <th></th>\n",
       "      <th>text</th>\n",
       "    </tr>\n",
       "  </thead>\n",
       "  <tbody>\n",
       "    <tr>\n",
       "      <th>0</th>\n",
       "      <td>turkish airlines rebooked us united flight sec...</td>\n",
       "    </tr>\n",
       "    <tr>\n",
       "      <th>1</th>\n",
       "      <td>please give special thanks aaron tampa office ...</td>\n",
       "    </tr>\n",
       "    <tr>\n",
       "      <th>2</th>\n",
       "      <td>please find bag singapore three days already w...</td>\n",
       "    </tr>\n",
       "    <tr>\n",
       "      <th>3</th>\n",
       "      <td>seriously wtf nochill</td>\n",
       "    </tr>\n",
       "    <tr>\n",
       "      <th>4</th>\n",
       "      <td>black hole phone system</td>\n",
       "    </tr>\n",
       "  </tbody>\n",
       "</table>\n",
       "</div>"
      ],
      "text/plain": [
       "                                                text\n",
       "0  turkish airlines rebooked us united flight sec...\n",
       "1  please give special thanks aaron tampa office ...\n",
       "2  please find bag singapore three days already w...\n",
       "3                              seriously wtf nochill\n",
       "4                            black hole phone system"
      ]
     },
     "execution_count": 42,
     "metadata": {},
     "output_type": "execute_result"
    }
   ],
   "source": [
    "X_train = catalog.load(\"X_train\")\n",
    "X_train.head()"
   ]
  },
  {
   "cell_type": "code",
   "execution_count": 44,
   "id": "496d20e8",
   "metadata": {},
   "outputs": [
    {
     "data": {
      "text/plain": [
       "20"
      ]
     },
     "execution_count": 44,
     "metadata": {},
     "output_type": "execute_result"
    }
   ],
   "source": [
    "len(X_train[X_train.text.isna()])"
   ]
  },
  {
   "cell_type": "code",
   "execution_count": 24,
   "id": "6c8e3f0e",
   "metadata": {},
   "outputs": [
    {
     "data": {
      "text/html": [
       "<div>\n",
       "<style scoped>\n",
       "    .dataframe tbody tr th:only-of-type {\n",
       "        vertical-align: middle;\n",
       "    }\n",
       "\n",
       "    .dataframe tbody tr th {\n",
       "        vertical-align: top;\n",
       "    }\n",
       "\n",
       "    .dataframe thead th {\n",
       "        text-align: right;\n",
       "    }\n",
       "</style>\n",
       "<table border=\"1\" class=\"dataframe\">\n",
       "  <thead>\n",
       "    <tr style=\"text-align: right;\">\n",
       "      <th></th>\n",
       "      <th>text</th>\n",
       "    </tr>\n",
       "  </thead>\n",
       "  <tbody>\n",
       "    <tr>\n",
       "      <th>1632</th>\n",
       "      <td>virginamerica first time flying virgin went #s...</td>\n",
       "    </tr>\n",
       "    <tr>\n",
       "      <th>1850</th>\n",
       "      <td>virginamerica ok first time flying tonight</td>\n",
       "    </tr>\n",
       "    <tr>\n",
       "      <th>1958</th>\n",
       "      <td>virginamerica seriously would pay flight seats...</td>\n",
       "    </tr>\n",
       "    <tr>\n",
       "      <th>3018</th>\n",
       "      <td>virginamerica need start flying kciairport</td>\n",
       "    </tr>\n",
       "    <tr>\n",
       "      <th>3539</th>\n",
       "      <td>virginamerica submitted status match request b...</td>\n",
       "    </tr>\n",
       "    <tr>\n",
       "      <th>3793</th>\n",
       "      <td>virginamerica plans start flying direct dal las</td>\n",
       "    </tr>\n",
       "    <tr>\n",
       "      <th>5345</th>\n",
       "      <td>southwestair regret flying morning virginameri...</td>\n",
       "    </tr>\n",
       "    <tr>\n",
       "      <th>6403</th>\n",
       "      <td>virginamerica best airline flown easy change r...</td>\n",
       "    </tr>\n",
       "    <tr>\n",
       "      <th>6479</th>\n",
       "      <td>virginamerica virginmedia flying #fabulous #se...</td>\n",
       "    </tr>\n",
       "    <tr>\n",
       "      <th>6488</th>\n",
       "      <td>virginamerica policy flying surgery still wait...</td>\n",
       "    </tr>\n",
       "    <tr>\n",
       "      <th>6590</th>\n",
       "      <td>virginamerica policy flying surgery</td>\n",
       "    </tr>\n",
       "    <tr>\n",
       "      <th>6844</th>\n",
       "      <td>virginamerica flying lax sfo looking awesome m...</td>\n",
       "    </tr>\n",
       "    <tr>\n",
       "      <th>6877</th>\n",
       "      <td>virginamerica flying love austin excellent news</td>\n",
       "    </tr>\n",
       "    <tr>\n",
       "      <th>7990</th>\n",
       "      <td>virginamerica virginatlantic checked flight sf...</td>\n",
       "    </tr>\n",
       "  </tbody>\n",
       "</table>\n",
       "</div>"
      ],
      "text/plain": [
       "                                                   text\n",
       "1632  virginamerica first time flying virgin went #s...\n",
       "1850         virginamerica ok first time flying tonight\n",
       "1958  virginamerica seriously would pay flight seats...\n",
       "3018         virginamerica need start flying kciairport\n",
       "3539  virginamerica submitted status match request b...\n",
       "3793    virginamerica plans start flying direct dal las\n",
       "5345  southwestair regret flying morning virginameri...\n",
       "6403  virginamerica best airline flown easy change r...\n",
       "6479  virginamerica virginmedia flying #fabulous #se...\n",
       "6488  virginamerica policy flying surgery still wait...\n",
       "6590                virginamerica policy flying surgery\n",
       "6844  virginamerica flying lax sfo looking awesome m...\n",
       "6877    virginamerica flying love austin excellent news\n",
       "7990  virginamerica virginatlantic checked flight sf..."
      ]
     },
     "execution_count": 24,
     "metadata": {},
     "output_type": "execute_result"
    }
   ],
   "source": [
    "X_train[X_train.text.str.contains('flying')\\\n",
    "       & X_train.text.str.contains('virginamerica')]"
   ]
  },
  {
   "cell_type": "code",
   "execution_count": 26,
   "id": "4a0136f2",
   "metadata": {},
   "outputs": [
    {
     "data": {
      "text/plain": [
       "['_MutableMapping__marker',\n",
       " '__abstractmethods__',\n",
       " '__class__',\n",
       " '__contains__',\n",
       " '__delattr__',\n",
       " '__delitem__',\n",
       " '__dict__',\n",
       " '__dir__',\n",
       " '__doc__',\n",
       " '__eq__',\n",
       " '__format__',\n",
       " '__ge__',\n",
       " '__getattribute__',\n",
       " '__getitem__',\n",
       " '__gt__',\n",
       " '__hash__',\n",
       " '__init__',\n",
       " '__init_subclass__',\n",
       " '__iter__',\n",
       " '__le__',\n",
       " '__len__',\n",
       " '__lt__',\n",
       " '__module__',\n",
       " '__ne__',\n",
       " '__new__',\n",
       " '__reduce__',\n",
       " '__reduce_ex__',\n",
       " '__repr__',\n",
       " '__reversed__',\n",
       " '__setattr__',\n",
       " '__setitem__',\n",
       " '__sizeof__',\n",
       " '__slots__',\n",
       " '__str__',\n",
       " '__subclasshook__',\n",
       " '__weakref__',\n",
       " '_abc_impl',\n",
       " '_content',\n",
       " '_get_pipelines_registry_callable',\n",
       " '_is_data_loaded',\n",
       " '_load_data',\n",
       " '_pipelines_module',\n",
       " 'clear',\n",
       " 'configure',\n",
       " 'get',\n",
       " 'items',\n",
       " 'keys',\n",
       " 'pop',\n",
       " 'popitem',\n",
       " 'setdefault',\n",
       " 'update',\n",
       " 'values']"
      ]
     },
     "execution_count": 26,
     "metadata": {},
     "output_type": "execute_result"
    }
   ],
   "source": [
    "dir(pipelines)"
   ]
  },
  {
   "cell_type": "code",
   "execution_count": 28,
   "id": "d18aa8da",
   "metadata": {},
   "outputs": [
    {
     "data": {
      "text/plain": [
       "dict_items([('__default__', Pipeline([\n",
       "Node(get_tweeter_raw_data, ['params:url_tweeter_data'], 'tweeter_raw_data', 'download_raw_data')\n",
       "])), ('downloading_data', Pipeline([\n",
       "Node(get_tweeter_raw_data, ['params:url_tweeter_data'], 'tweeter_raw_data', 'download_raw_data')\n",
       "])), ('cleaning_data', Pipeline([\n",
       "Node(clean_tweeter_data, ['tweeter_raw_data'], 'tweeter_clean_data', 'cleaning_data')\n",
       "])), ('spliting_data', Pipeline([\n",
       "Node(split_dataset, ['tweeter_clean_data', 'params:test_ratio'], {'X_train': 'X_train', 'y_train': 'y_train', 'X_test': 'X_test', 'y_test': 'y_test'}, None)\n",
       "])), ('training', Pipeline([\n",
       "Node(train_model, ['X_train', 'y_train', 'X_test', 'y_test'], 'model', None)\n",
       "])), ('process_train', Pipeline([\n",
       "Node(clean_tweeter_data, ['tweeter_raw_data'], 'tweeter_clean_data', 'cleaning_data'),\n",
       "Node(split_dataset, ['tweeter_clean_data', 'params:test_ratio'], {'X_train': 'X_train', 'y_train': 'y_train', 'X_test': 'X_test', 'y_test': 'y_test'}, None),\n",
       "Node(train_model, ['X_train', 'y_train', 'X_test', 'y_test'], 'model', None)\n",
       "]))])"
      ]
     },
     "execution_count": 28,
     "metadata": {},
     "output_type": "execute_result"
    }
   ],
   "source": [
    "pipelines.items()"
   ]
  },
  {
   "cell_type": "code",
   "execution_count": 29,
   "id": "854b54fd",
   "metadata": {},
   "outputs": [
    {
     "data": {
      "text/plain": [
       "dict_keys(['__default__', 'downloading_data', 'cleaning_data', 'spliting_data', 'training', 'process_train'])"
      ]
     },
     "execution_count": 29,
     "metadata": {},
     "output_type": "execute_result"
    }
   ],
   "source": [
    "pipelines.keys()"
   ]
  }
 ],
 "metadata": {
  "kernelspec": {
   "display_name": "Python 3 (ipykernel)",
   "language": "python",
   "name": "python3"
  },
  "language_info": {
   "codemirror_mode": {
    "name": "ipython",
    "version": 3
   },
   "file_extension": ".py",
   "mimetype": "text/x-python",
   "name": "python",
   "nbconvert_exporter": "python",
   "pygments_lexer": "ipython3",
   "version": "3.8.16"
  }
 },
 "nbformat": 4,
 "nbformat_minor": 5
}
